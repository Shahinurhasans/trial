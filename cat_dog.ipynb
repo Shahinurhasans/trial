{
  "nbformat": 4,
  "nbformat_minor": 0,
  "metadata": {
    "colab": {
      "provenance": [],
      "authorship_tag": "ABX9TyP8fV0sC5HG4LY/WM+xRaW5",
      "include_colab_link": true
    },
    "kernelspec": {
      "name": "python3",
      "display_name": "Python 3"
    },
    "language_info": {
      "name": "python"
    }
  },
  "cells": [
    {
      "cell_type": "markdown",
      "metadata": {
        "id": "view-in-github",
        "colab_type": "text"
      },
      "source": [
        "<a href=\"https://colab.research.google.com/github/Shahinurhasans/trial/blob/main/cat_dog.ipynb\" target=\"_parent\"><img src=\"https://colab.research.google.com/assets/colab-badge.svg\" alt=\"Open In Colab\"/></a>"
      ]
    },
    {
      "cell_type": "code",
      "source": [
        "import numpy as np\n",
        "import pandas as pd\n",
        "from sklearn.model_selection import train_test_split\n",
        "from sklearn.preprocessing import MinMaxScaler"
      ],
      "metadata": {
        "id": "XW4fan2YiXif"
      },
      "execution_count": null,
      "outputs": []
    },
    {
      "cell_type": "code",
      "source": [
        "df = pd.read_excel(\"/content/xx.xlsx\")"
      ],
      "metadata": {
        "id": "okQuXaayiiG9"
      },
      "execution_count": null,
      "outputs": []
    },
    {
      "cell_type": "code",
      "source": [
        "# Extract features (X) and labels (y)\n",
        "X = df[['age']].values\n",
        "y = df['ill'].values.reshape(-1, 1)\n"
      ],
      "metadata": {
        "id": "2joK3oqsim-L"
      },
      "execution_count": null,
      "outputs": []
    },
    {
      "cell_type": "code",
      "source": [
        "# Normalize age values (scale between 0 and 1)\n",
        "scaler = MinMaxScaler()\n",
        "X = scaler.fit_transform(X)"
      ],
      "metadata": {
        "id": "Z7xMMfLIlF6h"
      },
      "execution_count": null,
      "outputs": []
    },
    {
      "cell_type": "code",
      "source": [
        "# Split dataset into train and test sets\n",
        "X_train, X_test, y_train, y_test = train_test_split(X, y, test_size=0.2, random_state=42)\n"
      ],
      "metadata": {
        "id": "Hp0nu6FHixA5"
      },
      "execution_count": null,
      "outputs": []
    },
    {
      "cell_type": "code",
      "source": [],
      "metadata": {
        "id": "COyWccyMlBQz"
      },
      "execution_count": null,
      "outputs": []
    },
    {
      "cell_type": "code",
      "source": [
        "# Initialize weights & biases for the layers\n",
        "input_size = 1  # Only one feature (age)\n",
        "hidden_size_1 = 4  # Number of neurons in the first hidden layer\n",
        "hidden_size_2 = 3  # Number of neurons in the second hidden layer\n",
        "output_size = 1  # Output layer has 1 neuron"
      ],
      "metadata": {
        "id": "SaMQici4gPGB"
      },
      "execution_count": null,
      "outputs": []
    },
    {
      "cell_type": "code",
      "source": [
        "# Initialize random weights and biases\n",
        "W1 = np.random.randn(input_size, hidden_size_1)  # Weights from input to first hidden layer\n",
        "b1 = np.random.randn(1, hidden_size_1)  # Biases for first hidden layer\n",
        "W2 = np.random.randn(hidden_size_1, hidden_size_2)  # Weights from first hidden to second hidden layer\n",
        "b2 = np.random.randn(1, hidden_size_2)  # Biases for second hidden layer\n",
        "W3 = np.random.randn(hidden_size_2, output_size)  # Weights from second hidden to output layer\n",
        "b3 = np.random.randn(1, output_size)  # Bias for output layer"
      ],
      "metadata": {
        "id": "2GeA2nlMjSXJ"
      },
      "execution_count": null,
      "outputs": []
    },
    {
      "cell_type": "code",
      "source": [
        "# Sigmoid activation function (used in the output layer)\n",
        "def sigmoid(Z):\n",
        "    return 1 / (1 + np.exp(-Z))\n"
      ],
      "metadata": {
        "id": "fzg8v3x1jXvY"
      },
      "execution_count": null,
      "outputs": []
    },
    {
      "cell_type": "code",
      "source": [
        "# ReLU activation function (used in the hidden layer)\n",
        "def relu(Z):\n",
        "    return np.maximum(0, Z)"
      ],
      "metadata": {
        "id": "RwojIeSZjct3"
      },
      "execution_count": null,
      "outputs": []
    },
    {
      "cell_type": "code",
      "source": [
        "# Forward propagation\n",
        "def forward_propagation(X, W1, b1, W2, b2, W3, b3):\n",
        "    # Input to first hidden layer\n",
        "    Z1 = np.dot(X, W1) + b1\n",
        "    A1 = relu(Z1)  # Apply ReLU activation\n",
        "\n",
        "    # First hidden to second hidden layer\n",
        "    Z2 = np.dot(A1, W2) + b2\n",
        "    A2 = relu(Z2)  # Apply ReLU activation\n",
        "\n",
        "    # Second hidden to output layer\n",
        "    Z3 = np.dot(A2, W3) + b3\n",
        "    A3 = sigmoid(Z3)  # Apply Sigmoid activation\n",
        "\n",
        "    return A1, A2, A3  # Return outputs for all layers\n"
      ],
      "metadata": {
        "id": "CB2gR4OQjfqQ"
      },
      "execution_count": null,
      "outputs": []
    },
    {
      "cell_type": "code",
      "source": [
        "\n",
        "# Compute loss (Binary Cross-Entropy)\n",
        "def compute_loss(A3, Y):\n",
        "    m = Y.shape[0]\n",
        "    loss = -(1/m) * np.sum(Y * np.log(A3) + (1 - Y) * np.log(1 - A3))\n",
        "    return loss"
      ],
      "metadata": {
        "id": "h_48UT0hjmCo"
      },
      "execution_count": null,
      "outputs": []
    },
    {
      "cell_type": "code",
      "source": [
        "# Backward propagation\n",
        "def backward_propagation(X, A1, A2, A3, Y, W1, W2, W3):\n",
        "    m = Y.shape[0]\n",
        "\n",
        "    # Derivative of the loss with respect to the output layer\n",
        "    dZ3 = A3 - Y\n",
        "    dW3 = (1/m) * np.dot(A2.T, dZ3)\n",
        "    db3 = (1/m) * np.sum(dZ3, axis=0, keepdims=True)\n",
        "\n",
        "    # Derivative of the loss with respect to the second hidden layer\n",
        "    dZ2 = np.dot(dZ3, W3.T) * (A2 > 0)  # Gradient for ReLU\n",
        "    dW2 = (1/m) * np.dot(A1.T, dZ2)\n",
        "    db2 = (1/m) * np.sum(dZ2, axis=0, keepdims=True)\n",
        "\n",
        "    # Derivative of the loss with respect to the first hidden layer\n",
        "    dZ1 = np.dot(dZ2, W2.T) * (A1 > 0)  # Gradient for ReLU\n",
        "    dW1 = (1/m) * np.dot(X.T, dZ1)\n",
        "    db1 = (1/m) * np.sum(dZ1, axis=0, keepdims=True)\n",
        "\n",
        "    return dW1, db1, dW2, db2, dW3, db3\n"
      ],
      "metadata": {
        "id": "C3L6BDGijzoH"
      },
      "execution_count": null,
      "outputs": []
    },
    {
      "cell_type": "code",
      "source": [
        "# Training the neural network\n",
        "learning_rate = 0.01\n",
        "epochs = 500  # Number of training iterations\n",
        "\n",
        "for epoch in range(epochs):\n",
        "    # Forward propagation\n",
        "    A1, A2, A3 = forward_propagation(X_train, W1, b1, W2, b2, W3, b3)\n",
        "\n",
        "    # Compute loss\n",
        "    loss = compute_loss(A3, y_train)\n",
        "\n",
        "    # Backward propagation\n",
        "    dW1, db1, dW2, db2, dW3, db3 = backward_propagation(X_train, A1, A2, A3, y_train, W1, W2, W3)\n",
        "\n",
        "    # Update weights and biases\n",
        "    W1 -= learning_rate * dW1\n",
        "    b1 -= learning_rate * db1\n",
        "    W2 -= learning_rate * dW2\n",
        "    b2 -= learning_rate * db2\n",
        "    W3 -= learning_rate * dW3\n",
        "    b3 -= learning_rate * db3\n",
        "\n",
        "    # Print loss every 50 epochs\n",
        "    if epoch % 50 == 0:\n",
        "        print(f\"Epoch {epoch}, Loss: {loss:.4f}\")\n"
      ],
      "metadata": {
        "colab": {
          "base_uri": "https://localhost:8080/"
        },
        "id": "G7mMD9Hsj333",
        "outputId": "5bbbadba-4bfc-4ce2-c678-e11f1ca64805"
      },
      "execution_count": null,
      "outputs": [
        {
          "output_type": "stream",
          "name": "stdout",
          "text": [
            "Epoch 0, Loss: 0.5006\n",
            "Epoch 50, Loss: 0.4991\n",
            "Epoch 100, Loss: 0.4978\n",
            "Epoch 150, Loss: 0.4968\n",
            "Epoch 200, Loss: 0.4959\n",
            "Epoch 250, Loss: 0.4952\n",
            "Epoch 300, Loss: 0.4945\n",
            "Epoch 350, Loss: 0.4938\n",
            "Epoch 400, Loss: 0.4932\n",
            "Epoch 450, Loss: 0.4925\n"
          ]
        }
      ]
    },
    {
      "cell_type": "code",
      "source": [
        "# Prediction function\n",
        "def predict_illness(age):\n",
        "    age_scaled = scaler.transform(np.array([[age]]))  # Normalize input age\n",
        "    _, _, A3 = forward_propagation(age_scaled, W1, b1, W2, b2, W3, b3)  # Forward propagation\n",
        "    return int(A3 > 0.5)  # Convert probability to 0 or 1\n",
        "\n",
        "# Take user input for age & make prediction\n",
        "age = float(input(\"Enter Age: \"))\n",
        "prediction = predict_illness(age)\n",
        "\n",
        "# Print result\n",
        "print(f\"Predicted Illness: {prediction} (0 = Not Ill, 1 = Ill)\")"
      ],
      "metadata": {
        "colab": {
          "base_uri": "https://localhost:8080/"
        },
        "id": "yrgDU3mEj8yD",
        "outputId": "0635abd6-fc14-4e19-ffe3-b3597d20c31b"
      },
      "execution_count": null,
      "outputs": [
        {
          "output_type": "stream",
          "name": "stdout",
          "text": [
            "Enter Age: 4\n",
            "Predicted Illness: 0 (0 = Not Ill, 1 = Ill)\n"
          ]
        },
        {
          "output_type": "stream",
          "name": "stderr",
          "text": [
            "<ipython-input-55-b2df2c06d058>:5: DeprecationWarning: Conversion of an array with ndim > 0 to a scalar is deprecated, and will error in future. Ensure you extract a single element from your array before performing this operation. (Deprecated NumPy 1.25.)\n",
            "  return int(A3 > 0.5)  # Convert probability to 0 or 1\n"
          ]
        }
      ]
    },
    {
      "cell_type": "code",
      "source": [],
      "metadata": {
        "id": "-Z4Djy88k43I"
      },
      "execution_count": null,
      "outputs": []
    }
  ]
}